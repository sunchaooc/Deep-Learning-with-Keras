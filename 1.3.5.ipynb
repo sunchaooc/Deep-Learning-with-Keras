{
 "cells": [
  {
   "cell_type": "code",
   "execution_count": 9,
   "metadata": {},
   "outputs": [],
   "source": [
    "from __future__ import print_function \n",
    "import numpy as np \n",
    "# from keras.datasets import mnist \n",
    "from keras.models import Sequential \n",
    "from keras.layers.core import Dense, Activation , Dropout\n",
    "from keras.optimizers import SGD \n",
    "from keras.utils import np_utils \n",
    "np.random.seed(1671)#重复性设置"
   ]
  },
  {
   "cell_type": "code",
   "execution_count": 2,
   "metadata": {},
   "outputs": [],
   "source": [
    "#网络和训练\n",
    "NB_EPOCH=20\n",
    "BATCH_SIZE =128\n",
    "VERBOSE =1\n",
    "NB_CLASSES=10#输出个数等于数字个数\n",
    "OPTIMIZER=SGD()#SGD优化器，本章稍后介绍\n",
    "N_HIDDEN = 128\n",
    "VALIDATION_SPLIT=0.2#训练集用于验证的划分比例\n",
    "DROPOUT = 0.3"
   ]
  },
  {
   "cell_type": "code",
   "execution_count": 3,
   "metadata": {},
   "outputs": [],
   "source": [
    "def load_mnist():\n",
    "    path = r'F:\\1.ZHANGHAN\\DATA\\mnist.npz' #放置mnist.py的目录。注意斜杠\n",
    "    f = np.load(path)\n",
    "    x_train, y_train = f['x_train'], f['y_train']\n",
    "    x_test, y_test = f['x_test'], f['y_test']\n",
    "    f.close()\n",
    "    return (x_train, y_train), (x_test, y_test)"
   ]
  },
  {
   "cell_type": "code",
   "execution_count": 4,
   "metadata": {},
   "outputs": [],
   "source": [
    "(X_train,y_train),(X_test,y_test) = load_mnist()\n",
    "# X_train是60000行28×28的数据，变形为60000×784\n",
    "RESHAPED =784"
   ]
  },
  {
   "cell_type": "code",
   "execution_count": 5,
   "metadata": {},
   "outputs": [
    {
     "name": "stdout",
     "output_type": "stream",
     "text": [
      "784 train samples\n",
      "784 test samples\n"
     ]
    }
   ],
   "source": [
    "X_train =X_train.reshape(60000,RESHAPED)\n",
    "X_test =X_test.reshape(10000,RESHAPED)\n",
    "X_train =X_train.astype('float32')\n",
    "X_test =X_test.astype('float32')\n",
    "#归一化\n",
    "X_train/=255\n",
    "X_test/=255\n",
    "print(X_train.shape[1],'train samples')\n",
    "print(X_test.shape[1],'test samples')"
   ]
  },
  {
   "cell_type": "code",
   "execution_count": 6,
   "metadata": {},
   "outputs": [],
   "source": [
    "#将类向量转换为二值类别矩阵\n",
    "Y_train=np_utils.to_categorical(y_train, NB_CLASSES)\n",
    "Y_test=np_utils.to_categorical(y_test, NB_CLASSES)"
   ]
  },
  {
   "cell_type": "code",
   "execution_count": 11,
   "metadata": {},
   "outputs": [
    {
     "name": "stdout",
     "output_type": "stream",
     "text": [
      "Model: \"sequential_3\"\n",
      "_________________________________________________________________\n",
      "Layer (type)                 Output Shape              Param #   \n",
      "=================================================================\n",
      "dense_5 (Dense)              (None, 128)               100480    \n",
      "_________________________________________________________________\n",
      "activation_5 (Activation)    (None, 128)               0         \n",
      "_________________________________________________________________\n",
      "dropout_2 (Dropout)          (None, 128)               0         \n",
      "_________________________________________________________________\n",
      "dense_6 (Dense)              (None, 128)               16512     \n",
      "_________________________________________________________________\n",
      "activation_6 (Activation)    (None, 128)               0         \n",
      "_________________________________________________________________\n",
      "dropout_3 (Dropout)          (None, 128)               0         \n",
      "_________________________________________________________________\n",
      "dense_7 (Dense)              (None, 10)                1290      \n",
      "_________________________________________________________________\n",
      "activation_7 (Activation)    (None, 10)                0         \n",
      "=================================================================\n",
      "Total params: 118,282\n",
      "Trainable params: 118,282\n",
      "Non-trainable params: 0\n",
      "_________________________________________________________________\n"
     ]
    }
   ],
   "source": [
    "#10个输出\n",
    "#最后是softmax激活函数\n",
    "model= Sequential()\n",
    "model.add(Dense(N_HIDDEN,input_shape=(RESHAPED,)))\n",
    "model.add(Activation('relu'))\n",
    "model.add(Dropout(DROPOUT))\n",
    "model.add(Dense(N_HIDDEN))\n",
    "model.add(Activation('relu'))\n",
    "model.add(Dropout(DROPOUT))\n",
    "model.add(Dense(NB_CLASSES))\n",
    "model.add(Activation('softmax'))\n",
    "model.summary()"
   ]
  },
  {
   "cell_type": "code",
   "execution_count": 12,
   "metadata": {},
   "outputs": [],
   "source": [
    "model.compile(loss='categorical_crossentropy',optimizer=OPTIMIZER,metrics=['accuracy'])"
   ]
  },
  {
   "cell_type": "code",
   "execution_count": 13,
   "metadata": {},
   "outputs": [
    {
     "name": "stdout",
     "output_type": "stream",
     "text": [
      "Train on 48000 samples, validate on 12000 samples\n",
      "Epoch 1/20\n",
      "48000/48000 [==============================] - 2s 45us/step - loss: 1.7644 - accuracy: 0.4405 - val_loss: 0.9633 - val_accuracy: 0.7962\n",
      "Epoch 2/20\n",
      "48000/48000 [==============================] - 2s 45us/step - loss: 0.9455 - accuracy: 0.7082 - val_loss: 0.5474 - val_accuracy: 0.8638\n",
      "Epoch 3/20\n",
      "48000/48000 [==============================] - 2s 43us/step - loss: 0.7026 - accuracy: 0.7812 - val_loss: 0.4320 - val_accuracy: 0.8870\n",
      "Epoch 4/20\n",
      "48000/48000 [==============================] - 2s 46us/step - loss: 0.5938 - accuracy: 0.8186 - val_loss: 0.3752 - val_accuracy: 0.8967\n",
      "Epoch 5/20\n",
      "48000/48000 [==============================] - 2s 45us/step - loss: 0.5342 - accuracy: 0.8394 - val_loss: 0.3400 - val_accuracy: 0.9035\n",
      "Epoch 6/20\n",
      "48000/48000 [==============================] - 2s 45us/step - loss: 0.4887 - accuracy: 0.8536 - val_loss: 0.3146 - val_accuracy: 0.9107\n",
      "Epoch 7/20\n",
      "48000/48000 [==============================] - 2s 49us/step - loss: 0.4561 - accuracy: 0.8639 - val_loss: 0.2963 - val_accuracy: 0.9150\n",
      "Epoch 8/20\n",
      "48000/48000 [==============================] - 2s 44us/step - loss: 0.4296 - accuracy: 0.8723 - val_loss: 0.2803 - val_accuracy: 0.9195\n",
      "Epoch 9/20\n",
      "48000/48000 [==============================] - 2s 44us/step - loss: 0.4092 - accuracy: 0.8791 - val_loss: 0.2681 - val_accuracy: 0.9214\n",
      "Epoch 10/20\n",
      "48000/48000 [==============================] - 2s 47us/step - loss: 0.3928 - accuracy: 0.8818 - val_loss: 0.2554 - val_accuracy: 0.9262\n",
      "Epoch 11/20\n",
      "48000/48000 [==============================] - 2s 50us/step - loss: 0.3732 - accuracy: 0.8894 - val_loss: 0.2446 - val_accuracy: 0.9291\n",
      "Epoch 12/20\n",
      "48000/48000 [==============================] - 2s 43us/step - loss: 0.3580 - accuracy: 0.8938 - val_loss: 0.2371 - val_accuracy: 0.9300\n",
      "Epoch 13/20\n",
      "48000/48000 [==============================] - 2s 51us/step - loss: 0.3434 - accuracy: 0.8995 - val_loss: 0.2275 - val_accuracy: 0.9335\n",
      "Epoch 14/20\n",
      "48000/48000 [==============================] - 2s 44us/step - loss: 0.3350 - accuracy: 0.9024 - val_loss: 0.2215 - val_accuracy: 0.9349\n",
      "Epoch 15/20\n",
      "48000/48000 [==============================] - 3s 62us/step - loss: 0.3222 - accuracy: 0.9048 - val_loss: 0.2156 - val_accuracy: 0.9371\n",
      "Epoch 16/20\n",
      "48000/48000 [==============================] - 2s 50us/step - loss: 0.3124 - accuracy: 0.9083 - val_loss: 0.2083 - val_accuracy: 0.9390\n",
      "Epoch 17/20\n",
      "48000/48000 [==============================] - 3s 53us/step - loss: 0.3066 - accuracy: 0.9091 - val_loss: 0.2028 - val_accuracy: 0.9410\n",
      "Epoch 18/20\n",
      "48000/48000 [==============================] - 2s 48us/step - loss: 0.2948 - accuracy: 0.9140 - val_loss: 0.1977 - val_accuracy: 0.9422\n",
      "Epoch 19/20\n",
      "48000/48000 [==============================] - 2s 45us/step - loss: 0.2869 - accuracy: 0.9165 - val_loss: 0.1920 - val_accuracy: 0.9449\n",
      "Epoch 20/20\n",
      "48000/48000 [==============================] - 2s 45us/step - loss: 0.2846 - accuracy: 0.9160 - val_loss: 0.1874 - val_accuracy: 0.9465\n"
     ]
    }
   ],
   "source": [
    "history=model.fit(X_train,Y_train,\n",
    "batch_size=BATCH_SIZE,epochs=NB_EPOCH,\n",
    "verbose=VERBOSE, validation_split=VALIDATION_SPLIT)"
   ]
  },
  {
   "cell_type": "code",
   "execution_count": 14,
   "metadata": {},
   "outputs": [
    {
     "name": "stdout",
     "output_type": "stream",
     "text": [
      "10000/10000 [==============================] - 0s 42us/step\n",
      "Test loss： 0.1918417956188321\n",
      "Test accuracy： 0.9419000148773193\n"
     ]
    }
   ],
   "source": [
    "score=model.evaluate(X_test, Y_test, verbose=VERBOSE)\n",
    "print(\"Test loss：\", score[0])\n",
    "print('Test accuracy：', score[1])"
   ]
  },
  {
   "cell_type": "code",
   "execution_count": null,
   "metadata": {},
   "outputs": [],
   "source": [
    "#两个隐层 训练集准确率0.9448 验证集的准确率0.9458 测试集的准确率0.9469\n",
    "#一个隐层 训练集准确率0.9314 验证集的准确率0.9334 测试集的准确率0.9343\n",
    "#三个隐层 训练集准确率0.9526 验证集的准确率0.9528 测试集的准确率0.9495"
   ]
  }
 ],
 "metadata": {
  "kernelspec": {
   "display_name": "Python 3",
   "language": "python",
   "name": "python3"
  },
  "language_info": {
   "codemirror_mode": {
    "name": "ipython",
    "version": 3
   },
   "file_extension": ".py",
   "mimetype": "text/x-python",
   "name": "python",
   "nbconvert_exporter": "python",
   "pygments_lexer": "ipython3",
   "version": "3.7.1"
  }
 },
 "nbformat": 4,
 "nbformat_minor": 2
}
