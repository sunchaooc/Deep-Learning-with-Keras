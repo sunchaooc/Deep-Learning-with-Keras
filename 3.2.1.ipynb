{
 "cells": [
  {
   "cell_type": "code",
   "execution_count": 33,
   "metadata": {},
   "outputs": [],
   "source": [
    "from keras import backend as K\n",
    "from keras.models import Sequential\n",
    "from keras.layers import Conv2D\n",
    "from keras.layers import MaxPooling2D\n",
    "from keras.layers.core import Activation\n",
    "from keras.layers import Flatten\n",
    "from keras.layers import Dense\n",
    "from keras.utils import np_utils\n",
    "from keras.optimizers import SGD , RMSprop , Adam\n",
    "import numpy as np\n",
    "import matplotlib.pyplot as plt"
   ]
  },
  {
   "cell_type": "code",
   "execution_count": 50,
   "metadata": {},
   "outputs": [],
   "source": [
    "#定义ConvNet\n",
    "class LeNet:\n",
    "    @staticmethod\n",
    "    def build(input_shape, classes):\n",
    "        model = Sequential()\n",
    "        # CONV => RELU => POOL\n",
    "        model.add(Conv2D(20 , kernel_size = 5 , padding = \"same\" , input_shape = input_shape))\n",
    "        model.add(Activation(\"relu\"))\n",
    "        model.add(MaxPooling2D(pool_size = (2,2) , strides = (2,2)))\n",
    "        #CONV => RELU => POOL\n",
    "        model.add(Conv2D(50 , kernel_size = 5 , padding = \"same\"))\n",
    "        model.add(Activation(\"relu\"))\n",
    "        model.add(MaxPooling2D(pool_size = (2,2) , strides = (2,2)))\n",
    "        # Flatten层到RELU层\n",
    "        model.add(Flatten())\n",
    "        model.add(Dense(500))\n",
    "        model.add(Activation(\"relu\"))\n",
    "        # softmax分类器\n",
    "        model.add(Dense(classes))\n",
    "        model.add(Activation(\"softmax\"))\n",
    "        return model"
   ]
  },
  {
   "cell_type": "code",
   "execution_count": 76,
   "metadata": {},
   "outputs": [],
   "source": [
    "#网络和训练\n",
    "NB_EPOCH=2\n",
    "BATCH_SIZE =128\n",
    "VERBOSE =1\n",
    "NB_CLASSES=10\n",
    "OPTIMIZER=Adam()\n",
    "VALIDATION_SPLIT=0.2#训练集用于验证的划分比例\n",
    "DROPOUT = 0.3\n",
    "IMG_ROWS , IMG_COLS = 28 , 28\n",
    "INPUT_SHAPE = (1 , IMG_ROWS , IMG_COLS)"
   ]
  },
  {
   "cell_type": "code",
   "execution_count": 77,
   "metadata": {},
   "outputs": [],
   "source": [
    "def load_mnist():\n",
    "    path = r'F:\\1.ZHANGHAN\\DATA\\mnist.npz' #放置mnist.py的目录。注意斜杠\n",
    "    f = np.load(path)\n",
    "    x_train, y_train = f['x_train'], f['y_train']\n",
    "    x_test, y_test = f['x_test'], f['y_test']\n",
    "    f.close()\n",
    "    return (x_train, y_train), (x_test, y_test)"
   ]
  },
  {
   "cell_type": "code",
   "execution_count": 78,
   "metadata": {},
   "outputs": [],
   "source": [
    "#混合并划分训练集和测试集数据\n",
    "(X_train,y_train),(X_test,y_test) = load_mnist()\n",
    "K.set_image_data_format('channels_first')\n",
    "K.image_data_format();"
   ]
  },
  {
   "cell_type": "code",
   "execution_count": 79,
   "metadata": {},
   "outputs": [],
   "source": [
    "#把他们看成float类型并归一化\n",
    "X_train =X_train.astype('float32')\n",
    "X_test =X_test.astype('float32')\n",
    "X_train/=255\n",
    "X_test/=255"
   ]
  },
  {
   "cell_type": "code",
   "execution_count": 80,
   "metadata": {},
   "outputs": [
    {
     "name": "stdout",
     "output_type": "stream",
     "text": [
      "1 train samples\n",
      "1 test samples\n"
     ]
    }
   ],
   "source": [
    "#我们需要使用形状 60k*[1*28*28]作为卷积网络的输入\n",
    "X_train = X_train[:np.newaxis,:,:]\n",
    "X_test = X_test[:np.newaxis,:,:]\n",
    "\n",
    "#***修改的地方，3维张量变成4维\n",
    "X_train = X_train.reshape(60000,1,28, 28)\n",
    "X_test = X_test.reshape(10000,1,28, 28)\n",
    "\n",
    "print(X_train.shape[1],'train samples')\n",
    "print(X_test.shape[1],'test samples')"
   ]
  },
  {
   "cell_type": "code",
   "execution_count": 81,
   "metadata": {},
   "outputs": [],
   "source": [
    "#将类向量转换为二值类别矩阵\n",
    "Y_train=np_utils.to_categorical(y_train, NB_CLASSES)\n",
    "Y_test=np_utils.to_categorical(y_test, NB_CLASSES)"
   ]
  },
  {
   "cell_type": "code",
   "execution_count": 82,
   "metadata": {},
   "outputs": [
    {
     "name": "stdout",
     "output_type": "stream",
     "text": [
      "Train on 48000 samples, validate on 12000 samples\n",
      "Epoch 1/2\n",
      "48000/48000 [==============================] - 110s 2ms/step - loss: 0.1852 - accuracy: 0.9429 - val_loss: 0.0613 - val_accuracy: 0.9810\n",
      "Epoch 2/2\n",
      "48000/48000 [==============================] - 98s 2ms/step - loss: 0.0506 - accuracy: 0.9841 - val_loss: 0.0434 - val_accuracy: 0.9870\n",
      "10000/10000 [==============================] - 6s 631us/step\n",
      "Test loss： 0.0347650300876936\n",
      "Test accuracy： 0.988099992275238\n"
     ]
    }
   ],
   "source": [
    "#初始化优化器和模型\n",
    "model = LeNet.build(input_shape = INPUT_SHAPE , classes = NB_CLASSES)\n",
    "model.compile(loss='categorical_crossentropy',optimizer=OPTIMIZER,metrics=['accuracy'])\n",
    "history=model.fit(X_train,Y_train,\n",
    "batch_size=BATCH_SIZE,epochs=NB_EPOCH,\n",
    "verbose=VERBOSE, validation_split=VALIDATION_SPLIT)\n",
    "score=model.evaluate(X_test, Y_test, verbose=VERBOSE)\n",
    "print(\"Test loss：\", score[0])\n",
    "print('Test accuracy：', score[1])"
   ]
  },
  {
   "cell_type": "code",
   "execution_count": 84,
   "metadata": {},
   "outputs": [
    {
     "name": "stdout",
     "output_type": "stream",
     "text": [
      "dict_keys(['val_loss', 'val_accuracy', 'loss', 'accuracy'])\n"
     ]
    }
   ],
   "source": [
    "#列出全部历史数据\n",
    "print(history.history.keys())"
   ]
  },
  {
   "cell_type": "code",
   "execution_count": 87,
   "metadata": {
    "scrolled": true
   },
   "outputs": [
    {
     "data": {
      "image/png": "[encoded data removed]",
      "text/plain": [
       "<Figure size 432x288 with 1 Axes>"
      ]
     },
     "metadata": {
      "needs_background": "light"
     },
     "output_type": "display_data"
    }
   ],
   "source": [
    "#汇总准确率历史数据\n",
    "plt.plot(history.history['accuracy'])\n",
    "plt.plot(history.history['val_accuracy'])\n",
    "plt.plot('model_accuracy')\n",
    "plt.ylabel('accuracy')\n",
    "plt.xlabel('epoch')\n",
    "plt.legend(['train','test'],loc='upper left')\n",
    "plt.show()"
   ]
  },
  {
   "cell_type": "code",
   "execution_count": 91,
   "metadata": {
    "scrolled": true
   },
   "outputs": [
    {
     "data": {
      "image/png": "[encoded data removed]",
      "text/plain": [
       "<Figure size 432x288 with 1 Axes>"
      ]
     },
     "metadata": {
      "needs_background": "light"
     },
     "output_type": "display_data"
    }
   ],
   "source": [
    "#汇总损失函数历史数据\n",
    "plt.plot(history.history['loss'])\n",
    "plt.plot(history.history['val_loss'])\n",
    "plt.title('model loss')\n",
    "plt.ylabel('loss')\n",
    "plt.xlabel('epoch')\n",
    "plt.legend(['train','test'],loc='upper left')\n",
    "plt.show()"
   ]
  },
  {
   "cell_type": "code",
   "execution_count": null,
   "metadata": {},
   "outputs": [],
   "source": [
    "#两个隐层 训练集准确率0.9448 验证集的准确率0.9458 测试集的准确率0.9469\n",
    "#一个隐层 训练集准确率0.9314 验证集的准确率0.9334 测试集的准确率0.9343\n",
    "#三个隐层 训练集准确率0.9526 验证集的准确率0.9528 测试集的准确率0.9495"
   ]
  }
 ],
 "metadata": {
  "kernelspec": {
   "display_name": "Python 3",
   "language": "python",
   "name": "python3"
  },
  "language_info": {
   "codemirror_mode": {
    "name": "ipython",
    "version": 3
   },
   "file_extension": ".py",
   "mimetype": "text/x-python",
   "name": "python",
   "nbconvert_exporter": "python",
   "pygments_lexer": "ipython3",
   "version": "3.7.1"
  }
 },
 "nbformat": 4,
 "nbformat_minor": 2
}
