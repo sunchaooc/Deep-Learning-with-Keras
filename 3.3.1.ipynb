{
 "cells": [
  {
   "cell_type": "code",
   "execution_count": 11,
   "metadata": {},
   "outputs": [],
   "source": [
    "from keras.datasets import cifar10\n",
    "from keras.utils import np_utils\n",
    "from keras.models import Sequential\n",
    "from keras.layers import Dense,Dropout,Activation,Flatten\n",
    "from keras.layers import Conv2D,MaxPooling2D\n",
    "from keras.optimizers import SGD,Adam,RMSprop\n",
    "import matplotlib.pyplot as plt\n",
    "import numpy as np\n",
    "import pickle"
   ]
  },
  {
   "cell_type": "code",
   "execution_count": 12,
   "metadata": {},
   "outputs": [],
   "source": [
    "# CIFAR-10是一个包含了60000张32×32像素的三通道图像数据集\n",
    "IMG_CHANNELS =3\n",
    "IMG_ROWS = 32\n",
    "IMG_COLS =32"
   ]
  },
  {
   "cell_type": "code",
   "execution_count": 13,
   "metadata": {},
   "outputs": [],
   "source": [
    "#常量\n",
    "BATCH_SIZE = 128\n",
    "NB_EPOCH =20\n",
    "NB_CLASSES =10\n",
    "VERBOSE =1\n",
    "VALIDATION_SPLIT=0.2\n",
    "OPTIM=RMSprop()"
   ]
  },
  {
   "cell_type": "code",
   "execution_count": 14,
   "metadata": {},
   "outputs": [],
   "source": [
    "def read_dataset(path=\"G://cifar-10-batches-py//\"):\n",
    "    x_train = np.empty((50000, 32, 32, 3), dtype='uint8')\n",
    "    y_train = np.empty((50000,), dtype='uint8')\n",
    "    x_test = np.empty((10000, 32, 32, 3), dtype='uint8')\n",
    "    y_test = np.empty((10000,), dtype='uint8')\n",
    "    for i in range(1, 6):\n",
    "        path_num = path + \"data_batch_\" + str(i)\n",
    "        f = open(path_num, 'rb')\n",
    "        datadict = pickle.load(f, encoding='bytes')\n",
    "        x_train[(i - 1) * 10000:i * 10000, :, :, :] = datadict[b'data'].reshape(10000, 3, 32, 32).transpose(0, 2, 3, 1)\n",
    "        y_train[(i - 1) * 10000:i * 10000] = datadict[b'labels']\n",
    "    f = open(path + \"test_batch\", 'rb')\n",
    "    datadict = pickle.load(f, encoding='bytes')\n",
    "    x_test[0:10000, :, :, :] = datadict[b'data'].reshape(10000, 3, 32, 32).transpose(0, 2, 3, 1)\n",
    "    y_test[0:10000] = datadict[b'labels']\n",
    "    return (x_train, y_train), (x_test, y_test)"
   ]
  },
  {
   "cell_type": "code",
   "execution_count": 15,
   "metadata": {},
   "outputs": [
    {
     "name": "stdout",
     "output_type": "stream",
     "text": [
      "X_train.shape: (50000, 32, 32, 3)\n",
      "50000 train smaple\n",
      "10000 test smaple\n"
     ]
    }
   ],
   "source": [
    "(X_train, y_train) , (X_test , y_test)  = read_dataset()  # 加载数据集\n",
    "print('X_train.shape:' , X_train.shape)\n",
    "print(X_train.shape[0] , 'train smaple')  \n",
    "print(X_test.shape[0] , 'test smaple')  "
   ]
  },
  {
   "cell_type": "code",
   "execution_count": 16,
   "metadata": {},
   "outputs": [],
   "source": [
    "#分类转换\n",
    "Y_train =np_utils.to_categorical(y_train, NB_CLASSES) \n",
    "Y_test =np_utils.to_categorical(y_test, NB_CLASSES)"
   ]
  },
  {
   "cell_type": "code",
   "execution_count": 17,
   "metadata": {},
   "outputs": [],
   "source": [
    "#看成f1oat类型并归一化\n",
    "X_train =X_train.astype('float32')\n",
    "X_test =X_test.astype('float32')\n",
    "X_train /= 255\n",
    "X_test /= 255"
   ]
  },
  {
   "cell_type": "code",
   "execution_count": 21,
   "metadata": {},
   "outputs": [
    {
     "name": "stdout",
     "output_type": "stream",
     "text": [
      "Model: \"sequential_1\"\n",
      "_________________________________________________________________\n",
      "Layer (type)                 Output Shape              Param #   \n",
      "=================================================================\n",
      "conv2d_1 (Conv2D)            (None, 32, 32, 32)        896       \n",
      "_________________________________________________________________\n",
      "activation_1 (Activation)    (None, 32, 32, 32)        0         \n",
      "_________________________________________________________________\n",
      "conv2d_2 (Conv2D)            (None, 32, 32, 32)        9248      \n",
      "_________________________________________________________________\n",
      "activation_2 (Activation)    (None, 32, 32, 32)        0         \n",
      "_________________________________________________________________\n",
      "max_pooling2d_1 (MaxPooling2 (None, 16, 16, 32)        0         \n",
      "_________________________________________________________________\n",
      "dropout_1 (Dropout)          (None, 16, 16, 32)        0         \n",
      "_________________________________________________________________\n",
      "conv2d_3 (Conv2D)            (None, 16, 16, 64)        18496     \n",
      "_________________________________________________________________\n",
      "activation_3 (Activation)    (None, 16, 16, 64)        0         \n",
      "_________________________________________________________________\n",
      "conv2d_4 (Conv2D)            (None, 14, 14, 64)        36928     \n",
      "_________________________________________________________________\n",
      "activation_4 (Activation)    (None, 14, 14, 64)        0         \n",
      "_________________________________________________________________\n",
      "max_pooling2d_2 (MaxPooling2 (None, 7, 7, 64)          0         \n",
      "_________________________________________________________________\n",
      "dropout_2 (Dropout)          (None, 7, 7, 64)          0         \n",
      "_________________________________________________________________\n",
      "flatten_1 (Flatten)          (None, 3136)              0         \n",
      "_________________________________________________________________\n",
      "dense_1 (Dense)              (None, 512)               1606144   \n",
      "_________________________________________________________________\n",
      "activation_5 (Activation)    (None, 512)               0         \n",
      "_________________________________________________________________\n",
      "dropout_3 (Dropout)          (None, 512)               0         \n",
      "_________________________________________________________________\n",
      "dense_2 (Dense)              (None, 10)                5130      \n",
      "_________________________________________________________________\n",
      "activation_6 (Activation)    (None, 10)                0         \n",
      "=================================================================\n",
      "Total params: 1,676,842\n",
      "Trainable params: 1,676,842\n",
      "Non-trainable params: 0\n",
      "_________________________________________________________________\n"
     ]
    }
   ],
   "source": [
    "#网络\n",
    "model = Sequential()\n",
    "model.add(Conv2D(32,(3,3),padding = 'same',input_shape=(IMG_ROWS,IMG_COLS,IMG_CHANNELS)))\n",
    "model.add(Activation('relu'))\n",
    "model.add(Conv2D(32,(3,3),padding = 'same'))\n",
    "model.add(Activation('relu'))\n",
    "model.add(MaxPooling2D(pool_size=(2,2)))\n",
    "model.add(Dropout(0.25))\n",
    "model.add(Conv2D(64,(3,3),padding = 'same'))\n",
    "model.add(Activation('relu'))            \n",
    "model.add(Conv2D(64,(3,3)))\n",
    "model.add(Activation('relu')) \n",
    "model.add(MaxPooling2D(pool_size=(2,2)))\n",
    "model.add(Dropout(0.25))\n",
    "          \n",
    "model.add(Flatten())\n",
    "model.add(Dense(512))\n",
    "model.add(Activation('relu'))\n",
    "model.add(Dropout(0.5))\n",
    "model.add(Dense(NB_CLASSES))\n",
    "model.add(Activation('softmax'))\n",
    "model.summary()"
   ]
  },
  {
   "cell_type": "code",
   "execution_count": 22,
   "metadata": {
    "scrolled": false
   },
   "outputs": [
    {
     "name": "stdout",
     "output_type": "stream",
     "text": [
      "Train on 40000 samples, validate on 10000 samples\n",
      "Epoch 1/20\n",
      "40000/40000 [==============================] - 9s 222us/step - loss: 1.8002 - accuracy: 0.3501 - val_loss: 1.8508 - val_accuracy: 0.3821\n",
      "Epoch 2/20\n",
      "40000/40000 [==============================] - 5s 133us/step - loss: 1.3559 - accuracy: 0.5168 - val_loss: 1.2016 - val_accuracy: 0.5667\n",
      "Epoch 3/20\n",
      "40000/40000 [==============================] - 5s 127us/step - loss: 1.1400 - accuracy: 0.5994 - val_loss: 1.0063 - val_accuracy: 0.6456\n",
      "Epoch 4/20\n",
      "40000/40000 [==============================] - 5s 128us/step - loss: 0.9980 - accuracy: 0.6519 - val_loss: 0.9396 - val_accuracy: 0.6706\n",
      "Epoch 5/20\n",
      "40000/40000 [==============================] - 5s 127us/step - loss: 0.8959 - accuracy: 0.6882 - val_loss: 0.8839 - val_accuracy: 0.6978\n",
      "Epoch 6/20\n",
      "40000/40000 [==============================] - 5s 130us/step - loss: 0.8250 - accuracy: 0.7122 - val_loss: 0.8083 - val_accuracy: 0.7184\n",
      "Epoch 7/20\n",
      "40000/40000 [==============================] - 5s 133us/step - loss: 0.7692 - accuracy: 0.7346 - val_loss: 0.8940 - val_accuracy: 0.7009\n",
      "Epoch 8/20\n",
      "40000/40000 [==============================] - 5s 134us/step - loss: 0.7280 - accuracy: 0.7477 - val_loss: 0.7755 - val_accuracy: 0.7341\n",
      "Epoch 9/20\n",
      "40000/40000 [==============================] - 5s 135us/step - loss: 0.6957 - accuracy: 0.7617 - val_loss: 0.8370 - val_accuracy: 0.7227\n",
      "Epoch 10/20\n",
      "40000/40000 [==============================] - 5s 128us/step - loss: 0.6716 - accuracy: 0.7717 - val_loss: 0.9707 - val_accuracy: 0.6674\n",
      "Epoch 11/20\n",
      "40000/40000 [==============================] - 5s 129us/step - loss: 0.6484 - accuracy: 0.7801 - val_loss: 0.7206 - val_accuracy: 0.7610\n",
      "Epoch 12/20\n",
      "40000/40000 [==============================] - 5s 128us/step - loss: 0.6335 - accuracy: 0.7841 - val_loss: 0.8310 - val_accuracy: 0.7508\n",
      "Epoch 13/20\n",
      "40000/40000 [==============================] - 5s 130us/step - loss: 0.6235 - accuracy: 0.7893 - val_loss: 0.7835 - val_accuracy: 0.7697\n",
      "Epoch 14/20\n",
      "40000/40000 [==============================] - 5s 130us/step - loss: 0.6172 - accuracy: 0.7951 - val_loss: 0.7927 - val_accuracy: 0.7674\n",
      "Epoch 15/20\n",
      "40000/40000 [==============================] - 5s 131us/step - loss: 0.6001 - accuracy: 0.7987 - val_loss: 0.8667 - val_accuracy: 0.7539\n",
      "Epoch 16/20\n",
      "40000/40000 [==============================] - 5s 134us/step - loss: 0.5921 - accuracy: 0.8029 - val_loss: 0.8219 - val_accuracy: 0.7434\n",
      "Epoch 17/20\n",
      "40000/40000 [==============================] - 5s 129us/step - loss: 0.5860 - accuracy: 0.8072 - val_loss: 0.7470 - val_accuracy: 0.7493\n",
      "Epoch 18/20\n",
      "40000/40000 [==============================] - 5s 128us/step - loss: 0.5745 - accuracy: 0.8071 - val_loss: 0.9254 - val_accuracy: 0.7698\n",
      "Epoch 19/20\n",
      "40000/40000 [==============================] - 5s 129us/step - loss: 0.5795 - accuracy: 0.8077 - val_loss: 0.7801 - val_accuracy: 0.7827\n",
      "Epoch 20/20\n",
      "40000/40000 [==============================] - 5s 130us/step - loss: 0.5741 - accuracy: 0.8113 - val_loss: 0.8110 - val_accuracy: 0.7544\n",
      "10000/10000 [==============================] - 1s 62us/step\n",
      "Test loss: 0.854054637145996\n",
      "Test accuracy: 0.7416999936103821\n"
     ]
    }
   ],
   "source": [
    "#训练\n",
    "model.compile(loss='categorical_crossentropy',optimizer=OPTIM,metrics=['accuracy'])\n",
    "history = model.fit(X_train,Y_train,batch_size=BATCH_SIZE,epochs=NB_EPOCH,validation_split=VALIDATION_SPLIT,verbose = VERBOSE)\n",
    "score = model.evaluate(X_test,Y_test,batch_size = BATCH_SIZE,verbose = VERBOSE)\n",
    "print(\"Test loss:\",score[0])\n",
    "print(\"Test accuracy:\",score[1])"
   ]
  },
  {
   "cell_type": "code",
   "execution_count": 23,
   "metadata": {},
   "outputs": [
    {
     "data": {
      "image/png": "[encoded data removed]",
      "text/plain": [
       "<Figure size 432x288 with 1 Axes>"
      ]
     },
     "metadata": {
      "needs_background": "light"
     },
     "output_type": "display_data"
    }
   ],
   "source": [
    "#汇总准确率历史数据\n",
    "plt.plot(history.history['accuracy'])\n",
    "plt.plot(history.history['val_accuracy'])\n",
    "plt.plot('model_accuracy')\n",
    "plt.ylabel('accuracy')\n",
    "plt.xlabel('epoch')\n",
    "plt.legend(['train','test'],loc='upper left')\n",
    "plt.show()"
   ]
  },
  {
   "cell_type": "code",
   "execution_count": 24,
   "metadata": {},
   "outputs": [
    {
     "data": {
      "image/png": "[encoded data removed]",
      "text/plain": [
       "<Figure size 432x288 with 1 Axes>"
      ]
     },
     "metadata": {
      "needs_background": "light"
     },
     "output_type": "display_data"
    }
   ],
   "source": [
    "#汇总损失函数历史数据\n",
    "plt.plot(history.history['loss'])\n",
    "plt.plot(history.history['val_loss'])\n",
    "plt.title('model loss')\n",
    "plt.ylabel('loss')\n",
    "plt.xlabel('epoch')\n",
    "plt.legend(['train','test'],loc='upper left')\n",
    "plt.show()"
   ]
  },
  {
   "cell_type": "code",
   "execution_count": 25,
   "metadata": {},
   "outputs": [],
   "source": [
    "#保存模型\n",
    "model_json = model.to_json()\n",
    "open('cifar10_architecture.json','w').write(model_json)\n",
    "model.save_weights('cifar10_weights.h5',overwrite=True)"
   ]
  },
  {
   "cell_type": "code",
   "execution_count": null,
   "metadata": {},
   "outputs": [],
   "source": []
  }
 ],
 "metadata": {
  "kernelspec": {
   "display_name": "Python 3",
   "language": "python",
   "name": "python3"
  },
  "language_info": {
   "codemirror_mode": {
    "name": "ipython",
    "version": 3
   },
   "file_extension": ".py",
   "mimetype": "text/x-python",
   "name": "python",
   "nbconvert_exporter": "python",
   "pygments_lexer": "ipython3",
   "version": "3.7.4"
  }
 },
 "nbformat": 4,
 "nbformat_minor": 2
}
