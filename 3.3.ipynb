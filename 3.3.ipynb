{
 "cells": [
  {
   "cell_type": "code",
   "execution_count": 1,
   "metadata": {},
   "outputs": [
    {
     "name": "stderr",
     "output_type": "stream",
     "text": [
      "Using TensorFlow backend.\n"
     ]
    }
   ],
   "source": [
    "# import tensorflow.compat.v1 as tf #使用1.0版本的方法\n",
    "# tf.disable_v2_behavior() #禁用2.0版本的方法\n",
    "from keras.datasets import cifar10\n",
    "from keras.utils import np_utils\n",
    "from keras.models import Sequential\n",
    "from keras.layers import Dense,Dropout,Activation,Flatten\n",
    "from keras.layers import Conv2D,MaxPooling2D\n",
    "from keras.optimizers import SGD,Adam,RMSprop\n",
    "import matplotlib.pyplot as plt\n",
    "import numpy as np\n",
    "import pickle"
   ]
  },
  {
   "cell_type": "code",
   "execution_count": 2,
   "metadata": {},
   "outputs": [],
   "source": [
    "# import os\n",
    "\n",
    "# os.environ['CUDA_VISIBLE_DEVICES'] = '/gpu:0'"
   ]
  },
  {
   "cell_type": "code",
   "execution_count": 3,
   "metadata": {},
   "outputs": [],
   "source": [
    "# CIFAR-10是一个包含了60000张32×32像素的三通道图像数据集\n",
    "IMG_CHANNELS =3\n",
    "IMG_ROWS = 32\n",
    "IMG_COLS =32"
   ]
  },
  {
   "cell_type": "code",
   "execution_count": 4,
   "metadata": {},
   "outputs": [],
   "source": [
    "#常量\n",
    "BATCH_SIZE = 128\n",
    "NB_EPOCH =20\n",
    "NB_CLASSES =10\n",
    "VERBOSE =1\n",
    "VALIDATION_SPLIT=0.2\n",
    "OPTIM=RMSprop()"
   ]
  },
  {
   "cell_type": "code",
   "execution_count": 5,
   "metadata": {},
   "outputs": [],
   "source": [
    "def read_dataset(path=\"G://cifar-10-batches-py//\"):\n",
    "    x_train = np.empty((50000, 32, 32, 3), dtype='uint8')\n",
    "    y_train = np.empty((50000,), dtype='uint8')\n",
    "    x_test = np.empty((10000, 32, 32, 3), dtype='uint8')\n",
    "    y_test = np.empty((10000,), dtype='uint8')\n",
    "    for i in range(1, 6):\n",
    "        path_num = path + \"data_batch_\" + str(i)\n",
    "        f = open(path_num, 'rb')\n",
    "        datadict = pickle.load(f, encoding='bytes')\n",
    "        x_train[(i - 1) * 10000:i * 10000, :, :, :] = datadict[b'data'].reshape(10000, 3, 32, 32).transpose(0, 2, 3, 1)\n",
    "        y_train[(i - 1) * 10000:i * 10000] = datadict[b'labels']\n",
    "    f = open(path + \"test_batch\", 'rb')\n",
    "    datadict = pickle.load(f, encoding='bytes')\n",
    "    x_test[0:10000, :, :, :] = datadict[b'data'].reshape(10000, 3, 32, 32).transpose(0, 2, 3, 1)\n",
    "    y_test[0:10000] = datadict[b'labels']\n",
    "    return (x_train, y_train), (x_test, y_test)"
   ]
  },
  {
   "cell_type": "code",
   "execution_count": 6,
   "metadata": {},
   "outputs": [
    {
     "name": "stdout",
     "output_type": "stream",
     "text": [
      "X_train.shape: (50000, 32, 32, 3)\n",
      "50000 train smaple\n",
      "10000 test smaple\n"
     ]
    }
   ],
   "source": [
    "(X_train, y_train) , (X_test , y_test)  = read_dataset()  # 加载数据集\n",
    "print('X_train.shape:' , X_train.shape)\n",
    "print(X_train.shape[0] , 'train smaple')  \n",
    "print(X_test.shape[0] , 'test smaple')  "
   ]
  },
  {
   "cell_type": "code",
   "execution_count": 7,
   "metadata": {},
   "outputs": [],
   "source": [
    "#分类转换\n",
    "Y_train =np_utils.to_categorical(y_train, NB_CLASSES) \n",
    "Y_test =np_utils.to_categorical(y_test, NB_CLASSES)"
   ]
  },
  {
   "cell_type": "code",
   "execution_count": 8,
   "metadata": {},
   "outputs": [],
   "source": [
    "#看成f1oat类型并归一化\n",
    "X_train =X_train.astype('float32')\n",
    "X_test =X_test.astype('float32')\n",
    "X_train /= 255\n",
    "X_test /= 255"
   ]
  },
  {
   "cell_type": "code",
   "execution_count": 9,
   "metadata": {},
   "outputs": [],
   "source": [
    "#网络\n",
    "model = Sequential()\n",
    "model.add(Conv2D(32,(3,3),padding = 'same',input_shape=(IMG_ROWS,IMG_COLS,IMG_CHANNELS)))\n",
    "model.add(Activation('relu'))\n",
    "model.add(MaxPooling2D(pool_size=(2,2)))\n",
    "model.add(Dropout(0.25))"
   ]
  },
  {
   "cell_type": "code",
   "execution_count": 10,
   "metadata": {},
   "outputs": [
    {
     "name": "stdout",
     "output_type": "stream",
     "text": [
      "Model: \"sequential_1\"\n",
      "_________________________________________________________________\n",
      "Layer (type)                 Output Shape              Param #   \n",
      "=================================================================\n",
      "conv2d_1 (Conv2D)            (None, 32, 32, 32)        896       \n",
      "_________________________________________________________________\n",
      "activation_1 (Activation)    (None, 32, 32, 32)        0         \n",
      "_________________________________________________________________\n",
      "max_pooling2d_1 (MaxPooling2 (None, 16, 16, 32)        0         \n",
      "_________________________________________________________________\n",
      "dropout_1 (Dropout)          (None, 16, 16, 32)        0         \n",
      "_________________________________________________________________\n",
      "flatten_1 (Flatten)          (None, 8192)              0         \n",
      "_________________________________________________________________\n",
      "dense_1 (Dense)              (None, 512)               4194816   \n",
      "_________________________________________________________________\n",
      "activation_2 (Activation)    (None, 512)               0         \n",
      "_________________________________________________________________\n",
      "dropout_2 (Dropout)          (None, 512)               0         \n",
      "_________________________________________________________________\n",
      "dense_2 (Dense)              (None, 10)                5130      \n",
      "_________________________________________________________________\n",
      "activation_3 (Activation)    (None, 10)                0         \n",
      "=================================================================\n",
      "Total params: 4,200,842\n",
      "Trainable params: 4,200,842\n",
      "Non-trainable params: 0\n",
      "_________________________________________________________________\n"
     ]
    }
   ],
   "source": [
    "model.add(Flatten())\n",
    "model.add(Dense(512))\n",
    "model.add(Activation('relu'))\n",
    "model.add(Dropout(0.5))\n",
    "model.add(Dense(NB_CLASSES))\n",
    "model.add(Activation('softmax'))\n",
    "model.summary()"
   ]
  },
  {
   "cell_type": "code",
   "execution_count": 11,
   "metadata": {
    "scrolled": false
   },
   "outputs": [
    {
     "name": "stdout",
     "output_type": "stream",
     "text": [
      "Train on 40000 samples, validate on 10000 samples\n",
      "Epoch 1/20\n",
      "40000/40000 [==============================] - 7s 177us/step - loss: 1.7604 - accuracy: 0.3773 - val_loss: 1.4303 - val_accuracy: 0.5010\n",
      "Epoch 2/20\n",
      "40000/40000 [==============================] - 4s 96us/step - loss: 1.3919 - accuracy: 0.5068 - val_loss: 1.3093 - val_accuracy: 0.5427\n",
      "Epoch 3/20\n",
      "40000/40000 [==============================] - 4s 94us/step - loss: 1.2577 - accuracy: 0.5559 - val_loss: 1.2675 - val_accuracy: 0.5467\n",
      "Epoch 4/20\n",
      "40000/40000 [==============================] - 4s 94us/step - loss: 1.1672 - accuracy: 0.5891 - val_loss: 1.2381 - val_accuracy: 0.5670\n",
      "Epoch 5/20\n",
      "40000/40000 [==============================] - 4s 95us/step - loss: 1.0884 - accuracy: 0.6169 - val_loss: 1.1942 - val_accuracy: 0.5934\n",
      "Epoch 6/20\n",
      "40000/40000 [==============================] - 4s 95us/step - loss: 1.0367 - accuracy: 0.6393 - val_loss: 1.1158 - val_accuracy: 0.6186\n",
      "Epoch 7/20\n",
      "40000/40000 [==============================] - 4s 94us/step - loss: 0.9792 - accuracy: 0.6549 - val_loss: 1.0718 - val_accuracy: 0.6327\n",
      "Epoch 8/20\n",
      "40000/40000 [==============================] - 4s 94us/step - loss: 0.9294 - accuracy: 0.6736 - val_loss: 1.0375 - val_accuracy: 0.6445\n",
      "Epoch 9/20\n",
      "40000/40000 [==============================] - 4s 95us/step - loss: 0.8911 - accuracy: 0.6871 - val_loss: 1.0490 - val_accuracy: 0.6477\n",
      "Epoch 10/20\n",
      "40000/40000 [==============================] - 4s 95us/step - loss: 0.8521 - accuracy: 0.7034 - val_loss: 1.0149 - val_accuracy: 0.6575\n",
      "Epoch 11/20\n",
      "40000/40000 [==============================] - 4s 94us/step - loss: 0.8229 - accuracy: 0.7145 - val_loss: 1.0128 - val_accuracy: 0.6580\n",
      "Epoch 12/20\n",
      "40000/40000 [==============================] - 4s 95us/step - loss: 0.7917 - accuracy: 0.7259 - val_loss: 1.0472 - val_accuracy: 0.6584\n",
      "Epoch 13/20\n",
      "40000/40000 [==============================] - 4s 95us/step - loss: 0.7547 - accuracy: 0.7372 - val_loss: 1.0031 - val_accuracy: 0.6639\n",
      "Epoch 14/20\n",
      "40000/40000 [==============================] - 4s 95us/step - loss: 0.7273 - accuracy: 0.7492 - val_loss: 0.9704 - val_accuracy: 0.6816\n",
      "Epoch 15/20\n",
      "40000/40000 [==============================] - 4s 96us/step - loss: 0.7019 - accuracy: 0.7553 - val_loss: 0.9916 - val_accuracy: 0.6696\n",
      "Epoch 16/20\n",
      "40000/40000 [==============================] - 4s 94us/step - loss: 0.6784 - accuracy: 0.7664 - val_loss: 1.0331 - val_accuracy: 0.6636\n",
      "Epoch 17/20\n",
      "40000/40000 [==============================] - 4s 97us/step - loss: 0.6609 - accuracy: 0.7700 - val_loss: 1.0003 - val_accuracy: 0.6721\n",
      "Epoch 18/20\n",
      "40000/40000 [==============================] - 4s 96us/step - loss: 0.6375 - accuracy: 0.7797 - val_loss: 1.0092 - val_accuracy: 0.6786\n",
      "Epoch 19/20\n",
      "40000/40000 [==============================] - 4s 96us/step - loss: 0.6190 - accuracy: 0.7846 - val_loss: 1.0809 - val_accuracy: 0.6597\n",
      "Epoch 20/20\n",
      "40000/40000 [==============================] - 4s 95us/step - loss: 0.5958 - accuracy: 0.7934 - val_loss: 1.0805 - val_accuracy: 0.6709\n",
      "10000/10000 [==============================] - 0s 48us/step\n",
      "Test loss: 1.089321756362915\n",
      "Test accuracy: 0.6579999923706055\n"
     ]
    }
   ],
   "source": [
    "#训练\n",
    "model.compile(loss='categorical_crossentropy',optimizer=OPTIM,metrics=['accuracy'])\n",
    "history = model.fit(X_train,Y_train,batch_size=BATCH_SIZE,epochs=NB_EPOCH,validation_split=VALIDATION_SPLIT,verbose = VERBOSE)\n",
    "score = model.evaluate(X_test,Y_test,batch_size = BATCH_SIZE,verbose = VERBOSE)\n",
    "print(\"Test loss:\",score[0])\n",
    "print(\"Test accuracy:\",score[1])"
   ]
  },
  {
   "cell_type": "code",
   "execution_count": 12,
   "metadata": {},
   "outputs": [
    {
     "data": {
      "image/png": "[encoded data removed]",
      "text/plain": [
       "<Figure size 432x288 with 1 Axes>"
      ]
     },
     "metadata": {
      "needs_background": "light"
     },
     "output_type": "display_data"
    }
   ],
   "source": [
    "#汇总准确率历史数据\n",
    "plt.plot(history.history['accuracy'])\n",
    "plt.plot(history.history['val_accuracy'])\n",
    "plt.plot('model_accuracy')\n",
    "plt.ylabel('accuracy')\n",
    "plt.xlabel('epoch')\n",
    "plt.legend(['train','test'],loc='upper left')\n",
    "plt.show()"
   ]
  },
  {
   "cell_type": "code",
   "execution_count": 13,
   "metadata": {},
   "outputs": [
    {
     "data": {
      "image/png": "[encoded data removed]",
      "text/plain": [
       "<Figure size 432x288 with 1 Axes>"
      ]
     },
     "metadata": {
      "needs_background": "light"
     },
     "output_type": "display_data"
    }
   ],
   "source": [
    "#汇总损失函数历史数据\n",
    "plt.plot(history.history['loss'])\n",
    "plt.plot(history.history['val_loss'])\n",
    "plt.title('model loss')\n",
    "plt.ylabel('loss')\n",
    "plt.xlabel('epoch')\n",
    "plt.legend(['train','test'],loc='upper left')\n",
    "plt.show()"
   ]
  },
  {
   "cell_type": "code",
   "execution_count": 14,
   "metadata": {},
   "outputs": [
    {
     "ename": "SyntaxError",
     "evalue": "invalid syntax (<ipython-input-14-19e25e0b95ee>, line 4)",
     "output_type": "error",
     "traceback": [
      "\u001b[1;36m  File \u001b[1;32m\"<ipython-input-14-19e25e0b95ee>\"\u001b[1;36m, line \u001b[1;32m4\u001b[0m\n\u001b[1;33m    model.save_weights('cifar10_weights.h5'overwrite=True)\u001b[0m\n\u001b[1;37m                                                   ^\u001b[0m\n\u001b[1;31mSyntaxError\u001b[0m\u001b[1;31m:\u001b[0m invalid syntax\n"
     ]
    }
   ],
   "source": [
    "#保存模型\n",
    "model_json = model.to_json()\n",
    "open('cifar10_architecture.json','w').write(model_json)\n",
    "model.save_weights('cifar10_weights.h5'overwrite=True)"
   ]
  },
  {
   "cell_type": "code",
   "execution_count": null,
   "metadata": {},
   "outputs": [],
   "source": []
  }
 ],
 "metadata": {
  "kernelspec": {
   "display_name": "Python 3",
   "language": "python",
   "name": "python3"
  },
  "language_info": {
   "codemirror_mode": {
    "name": "ipython",
    "version": 3
   },
   "file_extension": ".py",
   "mimetype": "text/x-python",
   "name": "python",
   "nbconvert_exporter": "python",
   "pygments_lexer": "ipython3",
   "version": "3.7.4"
  }
 },
 "nbformat": 4,
 "nbformat_minor": 2
}
